{
 "cells": [
  {
   "cell_type": "markdown",
   "id": "e05482a6",
   "metadata": {},
   "source": [
    "# Задача 9. Hand-crafted graph features\n",
    "\n",
    "* **Дедлайн**: 16.05.2025, 23:59\n",
    "* Основной полный балл: 5\n",
    "* Максимум баллов: 10\n",
    "\n",
    "\n",
    "## Задача\n",
    "\n",
    "- [x] Найти или сгенерировать набор данных для бинарной классификации графов.\n",
    "- [x] Реализовать функцию `shortest_path_kernel(train_graphs, test_graphs)`, которая принимает тренировочный и тестовые наборы, а возвращает пару `K_train, K_test`\n",
    "  - Опишите графы с помощью вектора из количества кратчайших путей различной длины\n",
    "  - Для вычисления длин кратчайших путей можно использовать `nx.shortest_path_length(G)`\n",
    "  - Ядровая функция для сравнения двух графов - скалярное произведение их двух векторов\n",
    "  - `K_train` - матрица из ядровых функций для сравнения тренировочных графов между собой\n",
    "  - `K_test` - матрица из ядровых функций для сравнения тестовых графов с тренировочными\n",
    "- [x] Используя реализованное ядро обучите модель SVC, подберите гиперпараметры, вычислите различные метрики качества\n",
    "- [x] (+5 баллов) Также реализовать Weisfeiler-Lehman Kernel и обучить классификатор с ним, сравнить результаты.\n"
   ]
  },
  {
   "cell_type": "code",
   "execution_count": 30,
   "id": "7f89376e",
   "metadata": {},
   "outputs": [],
   "source": [
    "import networkx as nx\n",
    "import numpy as np\n",
    "from sklearn.svm import SVC\n",
    "from sklearn.model_selection import train_test_split, GridSearchCV\n",
    "from sklearn.metrics import accuracy_score, f1_score, confusion_matrix\n",
    "from collections import Counter, defaultdict"
   ]
  },
  {
   "cell_type": "markdown",
   "id": "f5fc8ae5",
   "metadata": {},
   "source": [
    "## Генерация данных"
   ]
  },
  {
   "cell_type": "code",
   "execution_count": null,
   "id": "503d4f57",
   "metadata": {},
   "outputs": [],
   "source": [
    "rng = np.random.default_rng(123)\n",
    "\n",
    "def make_bridge_graph(max_nodes: int) -> nx.Graph:\n",
    "    if rng.random() < 0.6:\n",
    "        size = rng.integers(3, (max_nodes - 2) // 2)\n",
    "        bridge = rng.integers(1, 4)\n",
    "        return nx.barbell_graph(size, bridge)\n",
    "    else:\n",
    "        length = rng.integers(3, max_nodes)\n",
    "        return nx.path_graph(length)\n",
    "\n",
    "\n",
    "def make_dense_graph(max_nodes: int) -> nx.Graph:\n",
    "    if rng.random() < 0.5:\n",
    "        nodes = rng.integers(4, max_nodes)\n",
    "        return nx.complete_graph(nodes)\n",
    "    else:\n",
    "        nodes = rng.integers(5, max_nodes)\n",
    "        G = nx.cycle_graph(nodes)\n",
    "        extra = rng.integers(1, nodes // 2)\n",
    "        for _ in range(extra):\n",
    "            u, v = rng.choice(nodes, 2, replace=False)\n",
    "            G.add_edge(u, v)\n",
    "        return G\n",
    "\n",
    "\n",
    "def assemble_graph_dataset(total: int = 2000, max_nodes: int = 25):\n",
    "    graphs, labels = [], []\n",
    "    for _ in range(total // 2):\n",
    "        g1 = make_bridge_graph(max_nodes)\n",
    "        graphs.append(g1); labels.append(1)\n",
    "        g0 = make_dense_graph(max_nodes)\n",
    "        graphs.append(g0); labels.append(0)\n",
    "    return graphs, np.array(labels)\n",
    "\n",
    "all_graphs, y = assemble_graph_dataset(5000, 30)\n",
    "X_train, X_test, y_train, y_test = train_test_split(\n",
    "    all_graphs, y, test_size=0.3, random_state=42\n",
    ")"
   ]
  },
  {
   "cell_type": "markdown",
   "id": "3cc855fd",
   "metadata": {},
   "source": [
    "## Shortest path kernel"
   ]
  },
  {
   "cell_type": "code",
   "execution_count": null,
   "id": "613a1679",
   "metadata": {},
   "outputs": [
    {
     "name": "stdout",
     "output_type": "stream",
     "text": [
      "SPK best params: {'C': 100, 'gamma': 'scale'}\n",
      "SPK Accuracy: 0.8886666666666667\n",
      "SPK F1: 0.8850653819683414\n",
      "[[690  75]\n",
      " [ 92 643]]\n"
     ]
    }
   ],
   "source": [
    "def compute_sp_vector(graph: nx.Graph, L: int = 6) -> np.ndarray:\n",
    "    counts = np.zeros(L, dtype=float)\n",
    "    dist_map = dict(nx.shortest_path_length(graph))\n",
    "    n = graph.number_of_nodes()\n",
    "    for u, targets in dist_map.items():\n",
    "        for v, d in targets.items():\n",
    "            if u < v and d <= L:\n",
    "                counts[d-1] += 1\n",
    "    if n > 1:\n",
    "        counts /= (n * (n - 1) / 2)\n",
    "    return counts\n",
    "\n",
    "\n",
    "def sp_kernel(train_gs, test_gs=None, max_len=6):\n",
    "    train_feats = np.array([compute_sp_vector(g, max_len) for g in train_gs])\n",
    "    K_train = train_feats @ train_feats.T\n",
    "    if test_gs is not None:\n",
    "        test_feats = np.array([compute_sp_vector(g, max_len) for g in test_gs])\n",
    "        K_test = test_feats @ train_feats.T\n",
    "    else:\n",
    "        K_test = None\n",
    "    return K_train, K_test\n",
    "\n",
    "K_tr, K_te = sp_kernel(X_train, X_test, max_len=10)\n",
    "params = {'C': [0.01, 1, 100], 'gamma': ['scale', 'auto']}\n",
    "base_svc = SVC(kernel='precomputed', random_state=42)\n",
    "cv_svc = GridSearchCV(base_svc, params, cv=5, n_jobs=-1)\n",
    "cv_svc.fit(K_tr, y_train)\n",
    "print(\"SPK best params:\", cv_svc.best_params_)\n",
    "\n",
    "pred_sp = cv_svc.predict(K_te)\n",
    "print(\"SPK Accuracy:\", accuracy_score(y_test, pred_sp))\n",
    "print(\"SPK F1:\", f1_score(y_test, pred_sp))\n",
    "print(confusion_matrix(y_test, pred_sp))"
   ]
  },
  {
   "cell_type": "markdown",
   "id": "aca9e227",
   "metadata": {},
   "source": [
    "## Weisfeiler-Lehman Kernel"
   ]
  },
  {
   "cell_type": "code",
   "execution_count": 33,
   "id": "8dfc15b3",
   "metadata": {},
   "outputs": [],
   "source": [
    "class WLKernel:\n",
    "    def __init__(self, iterations: int = 3, normalize: bool = True):\n",
    "        self.iterations = iterations\n",
    "        self.normalize = normalize\n",
    "        self.label_map = {}\n",
    "        self.train_graphs = []\n",
    "\n",
    "    def _relabel_once(self, G, labels):\n",
    "        new_labels = {}\n",
    "        for node in G.nodes():\n",
    "            neigh = tuple(sorted(labels[n] for n in G.neighbors(node)))\n",
    "            lbl = (labels[node], neigh)\n",
    "            if lbl not in self.label_map:\n",
    "                self.label_map[lbl] = len(self.label_map) + 1\n",
    "            new_labels[node] = self.label_map[lbl]\n",
    "        return new_labels\n",
    "\n",
    "    def _extract_features(self, G):\n",
    "        lbls = {n: 1 for n in G.nodes()}\n",
    "        freq = Counter(lbls.values())\n",
    "        for _ in range(self.iterations):\n",
    "            lbls = self._relabel_once(G, lbls)\n",
    "            freq.update(lbls.values())\n",
    "        return freq\n",
    "\n",
    "    def fit(self, graphs):\n",
    "        self.train_graphs = graphs\n",
    "        for g in graphs:\n",
    "            self._extract_features(g)\n",
    "        return self\n",
    "\n",
    "    def transform(self, graphs):\n",
    "        m, n = len(graphs), len(self.train_graphs)\n",
    "        K = np.zeros((m, n))\n",
    "        train_feats = [self._extract_features(g) for g in self.train_graphs]\n",
    "        for i, g in enumerate(graphs):\n",
    "            fi = self._extract_features(g)\n",
    "            for j, fj in enumerate(train_feats):\n",
    "                common = set(fi) & set(fj)\n",
    "                val = sum(fi[k] * fj[k] for k in common)\n",
    "                if self.normalize:\n",
    "                    norm = np.sqrt(sum(v*v for v in fi.values()) * sum(v*v for v in fj.values()))\n",
    "                    val /= (norm + 1e-12)\n",
    "                K[i, j] = val\n",
    "        return K"
   ]
  },
  {
   "cell_type": "markdown",
   "id": "50c3d21e",
   "metadata": {},
   "source": [
    "## Обучение "
   ]
  },
  {
   "cell_type": "code",
   "execution_count": 34,
   "id": "2af0248b",
   "metadata": {},
   "outputs": [
    {
     "name": "stdout",
     "output_type": "stream",
     "text": [
      "WLK best params: {'C': 1, 'gamma': 'scale'}\n",
      "WLK Acc: 1.0\n",
      "WLK F1: 1.0\n",
      "[[765   0]\n",
      " [  0 735]]\n"
     ]
    }
   ],
   "source": [
    "wl = WLKernel(iterations=4)\n",
    "wl.fit(X_train)\n",
    "K_tr_wl = wl.transform(X_train)\n",
    "K_te_wl = wl.transform(X_test)\n",
    "cv_wl = GridSearchCV(SVC(kernel='precomputed', random_state=42), params, cv=5, n_jobs=-1)\n",
    "cv_wl.fit(K_tr_wl, y_train)\n",
    "print(\"WLK best params:\", cv_wl.best_params_)\n",
    "res_wl = cv_wl.predict(K_te_wl)\n",
    "print(\"WLK Acc:\", accuracy_score(y_test, res_wl))\n",
    "print(\"WLK F1:\", f1_score(y_test, res_wl))\n",
    "print(confusion_matrix(y_test, res_wl))"
   ]
  },
  {
   "cell_type": "markdown",
   "id": "89781779",
   "metadata": {},
   "source": [
    "## Сравнение Weisfeiler-Lehman Kernel и Shortest Path Kernel"
   ]
  },
  {
   "cell_type": "code",
   "execution_count": 35,
   "id": "a7b028c5",
   "metadata": {},
   "outputs": [
    {
     "name": "stdout",
     "output_type": "stream",
     "text": [
      "\n",
      "Comparison:\n",
      "SPK vs WLK Acc: 0.889 vs 1.000\n",
      "SPK vs WLK F1: 0.885 vs 1.000\n"
     ]
    }
   ],
   "source": [
    "print(\"\\nComparison:\")\n",
    "print(f\"SPK vs WLK Acc: {accuracy_score(y_test, pred_sp):.3f} vs {accuracy_score(y_test, res_wl):.3f}\")\n",
    "print(f\"SPK vs WLK F1: {f1_score(y_test, pred_sp):.3f} vs {f1_score(y_test, res_wl):.3f}\")\n"
   ]
  }
 ],
 "metadata": {
  "kernelspec": {
   "display_name": "venv",
   "language": "python",
   "name": "python3"
  },
  "language_info": {
   "codemirror_mode": {
    "name": "ipython",
    "version": 3
   },
   "file_extension": ".py",
   "mimetype": "text/x-python",
   "name": "python",
   "nbconvert_exporter": "python",
   "pygments_lexer": "ipython3",
   "version": "3.10.6"
  }
 },
 "nbformat": 4,
 "nbformat_minor": 5
}
